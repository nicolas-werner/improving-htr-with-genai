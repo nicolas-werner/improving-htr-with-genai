{
 "cells": [
  {
   "cell_type": "code",
   "execution_count": null,
   "id": "Hbol",
   "metadata": {},
   "outputs": [],
   "source": [
    "import marimo as mo"
   ]
  },
  {
   "cell_type": "markdown",
   "id": "MJUe",
   "metadata": {},
   "source": [
    "# Proof of Concept: Using MMLLMs to improve transcription of medieval handwriting"
   ]
  },
  {
   "cell_type": "markdown",
   "id": "vblA",
   "metadata": {},
   "source": [
    "## Settings\n",
    "enter you Openai API Key below"
   ]
  },
  {
   "cell_type": "code",
   "execution_count": null,
   "id": "bkHC",
   "metadata": {},
   "outputs": [
    {
     "data": {
      "text/html": [
       "<marimo-ui-element object-id='bkHC-0' random-id='fcc8b79b-23a9-29c0-adec-f190de33b09e'><marimo-text data-initial-value='&quot;&quot;' data-label='null' data-placeholder='&quot;OPEN AI API KEY ...&quot;' data-kind='&quot;password&quot;' data-full-width='false' data-disabled='false' data-debounce='true'></marimo-text></marimo-ui-element>"
      ]
     },
     "metadata": {},
     "output_type": "display_data"
    }
   ],
   "source": [
    "OPENAI_API_KEY = mo.ui.text(placeholder=\"OPEN AI API KEY ...\", kind=\"password\")\n",
    "OPENAI_API_KEY"
   ]
  },
  {
   "cell_type": "code",
   "execution_count": null,
   "id": "lEQa",
   "metadata": {},
   "outputs": [],
   "source": [
    "import os\n",
    "from openai import OpenAI\n",
    "if OPENAI_API_KEY.value:\n",
    "    client = OpenAI(api_key= OPENAI_API_KEY.value)"
   ]
  },
  {
   "cell_type": "code",
   "execution_count": null,
   "id": "PKri",
   "metadata": {},
   "outputs": [],
   "source": [
    "# System Prompt\n",
    "prompt_text = mo.ui.text_area(value=\"You are an expert for medieval handwritten middle high german. Transcribe the text in this image exactly and return it in markdown format.\")"
   ]
  },
  {
   "cell_type": "code",
   "execution_count": null,
   "id": "Xref",
   "metadata": {},
   "outputs": [],
   "source": [
    "# Image Upload\n",
    "file_upload = mo.ui.file(kind=\"area\", filetypes=[\".png\", \".jpg\", \".jpeg\"], multiple=False, label=\"Upload Image\")"
   ]
  },
  {
   "cell_type": "code",
   "execution_count": null,
   "id": "SFPL",
   "metadata": {},
   "outputs": [],
   "source": [
    "import base64\n",
    "\n",
    "def encode_image_to_base64(image_file):\n",
    "    \"\"\"Utility function to encode image file to base64.\"\"\"\n",
    "    if image_file:\n",
    "        return base64.b64encode(image_file).decode(\"utf-8\")\n",
    "    return None\n",
    "\n",
    "# Handle zero-shot image\n",
    "if file_upload.value:\n",
    "    base64_image = encode_image_to_base64(file_upload.value[0].contents)\n",
    "else:\n",
    "    base64_image = None"
   ]
  },
  {
   "cell_type": "code",
   "execution_count": null,
   "id": "BYtC",
   "metadata": {},
   "outputs": [],
   "source": [
    "# Create state variables for outputs\n",
    "zero_shot_get, zero_shot_set = mo.state(\"\")\n",
    "one_shot_get, one_shot_set = mo.state(\"\")\n",
    "htr_get, htr_set = mo.state(\"\")"
   ]
  },
  {
   "cell_type": "code",
   "execution_count": null,
   "id": "RGSE",
   "metadata": {},
   "outputs": [],
   "source": [
    "from pydantic import BaseModel, Field\n",
    "\n",
    "class TranscriptionPage(BaseModel):\n",
    "    text: str = Field(..., description=\"The transcribed text of the page in Markdown.\")\n",
    "\n",
    "class TranscriptionError(BaseModel):\n",
    "    text: str = Field(..., description=\"Error message when transcription fails.\")\n",
    "    is_error: bool = Field(default=True, description=\"Flag indicating this is an error.\")\n",
    "\n",
    "def get_transcription(client, model, system_prompt, messages, response_format):\n",
    "\n",
    "    try:\n",
    "        completion = client.beta.chat.completions.parse(\n",
    "            model=model,\n",
    "            messages=[\n",
    "                {\"role\": \"system\", \"content\": system_prompt},\n",
    "                {\"role\": \"user\", \"content\": messages}\n",
    "            ],\n",
    "            response_format=response_format,\n",
    "        )\n",
    "        return completion.choices[0].message.parsed\n",
    "    except Exception as e:\n",
    "        # Return an object with a text attribute for consistent interface\n",
    "        return TranscriptionError(text=f\"Error: {str(e)}\")"
   ]
  },
  {
   "cell_type": "code",
   "execution_count": null,
   "id": "Kclp",
   "metadata": {},
   "outputs": [],
   "source": [
    "run_button = mo.ui.run_button(label=\"Run Transcription 🏃 \", kind=\"success\")"
   ]
  },
  {
   "cell_type": "code",
   "execution_count": null,
   "id": "emfo",
   "metadata": {},
   "outputs": [],
   "source": [
    "zero_shot = mo.vstack([\n",
    "    \"System Prompt\", prompt_text,\n",
    "    \"Image to transcribe\", file_upload,\n",
    "    run_button,\n",
    "    mo.md(zero_shot_get())\n",
    "    ])"
   ]
  },
  {
   "cell_type": "code",
   "execution_count": null,
   "id": "Hstk",
   "metadata": {},
   "outputs": [],
   "source": [
    "# Transcription Type"
   ]
  },
  {
   "cell_type": "code",
   "execution_count": null,
   "id": "nWHF",
   "metadata": {},
   "outputs": [
    {
     "data": {
      "text/html": [
       "<marimo-ui-element object-id='nWHF-0' random-id='1f3e9637-67b9-82c1-b8bf-d0f15a386270'><marimo-tabs data-initial-value='&quot;&quot;' data-label='null' data-tabs='[&quot;&lt;span class=&#92;&quot;markdown prose dark:prose-invert&#92;&quot;&gt;&lt;span class=&#92;&quot;paragraph&#92;&quot;&gt;Zero Shot&lt;/span&gt;&lt;/span&gt;&quot;, &quot;&lt;span class=&#92;&quot;markdown prose dark:prose-invert&#92;&quot;&gt;&lt;span class=&#92;&quot;paragraph&#92;&quot;&gt;One Shot&lt;/span&gt;&lt;/span&gt;&quot;, &quot;&lt;span class=&#92;&quot;markdown prose dark:prose-invert&#92;&quot;&gt;&lt;span class=&#92;&quot;paragraph&#92;&quot;&gt;HTR Improvement&lt;/span&gt;&lt;/span&gt;&quot;]'><div data-kind='tab'><div style='display: flex;flex: 1;flex-direction: column;justify-content: flex-start;align-items: normal;flex-wrap: nowrap;gap: 0.5rem'><div><span>System Prompt</span></div><div><marimo-ui-element object-id='PKri-0' random-id='1d52c634-dde8-36f5-0a5f-a6e632365dab'><marimo-text-area data-initial-value='&quot;You are an expert for medieval handwritten middle high german. Transcribe the text in this image exactly and return it in markdown format.&quot;' data-label='null' data-placeholder='&quot;&quot;' data-disabled='false' data-debounce='true' data-full-width='false'></marimo-text-area></marimo-ui-element></div><div><span>Image to transcribe</span></div><div><marimo-ui-element object-id='Xref-0' random-id='76f347c5-4311-b37a-5667-1afb79f81e17'><marimo-file data-initial-value='[]' data-label='&quot;&lt;span class=&#92;&quot;markdown prose dark:prose-invert&#92;&quot;&gt;&lt;span class=&#92;&quot;paragraph&#92;&quot;&gt;Upload Image&lt;/span&gt;&lt;/span&gt;&quot;' data-filetypes='[&quot;.png&quot;, &quot;.jpg&quot;, &quot;.jpeg&quot;]' data-multiple='false' data-kind='&quot;area&quot;'></marimo-file></marimo-ui-element></div><div><marimo-ui-element object-id='Kclp-0' random-id='203ac03a-b293-16fe-9c80-6e78665dbfe1'><marimo-button data-initial-value='0' data-label='&quot;&lt;span class=&#92;&quot;markdown prose dark:prose-invert&#92;&quot;&gt;&lt;span class=&#92;&quot;paragraph&#92;&quot;&gt;Run Transcription &#92;ud83c&#92;udfc3 &lt;/span&gt;&lt;/span&gt;&quot;' data-kind='&quot;success&quot;' data-disabled='false' data-full-width='false'></marimo-button></marimo-ui-element></div><div><span class=\"markdown prose dark:prose-invert\"></span></div></div></div><div data-kind='tab'><div style='display: flex;flex: 1;flex-direction: column;justify-content: flex-start;align-items: normal;flex-wrap: nowrap;gap: 0.5rem'><div><span>System Prompt</span></div><div><marimo-ui-element object-id='ZHCJ-0' random-id='607d23f5-d4d4-87e9-41a6-05e567b448be'><marimo-text-area data-initial-value='&quot;You are an expert for medieval handwritten middle high german. Here is an example of a handwritten text and its transcription. Use this example to help you transcribe the new text. Transcribe the text in this image exactly and return it in markdown format.&quot;' data-label='null' data-placeholder='&quot;&quot;' data-disabled='false' data-debounce='true' data-full-width='false'></marimo-text-area></marimo-ui-element></div><div><span>Example Image</span></div><div><marimo-ui-element object-id='ROlb-0' random-id='2b93d79f-70bb-9e7e-4810-0b9a94f00da6'><marimo-file data-initial-value='[]' data-label='&quot;&lt;span class=&#92;&quot;markdown prose dark:prose-invert&#92;&quot;&gt;&lt;span class=&#92;&quot;paragraph&#92;&quot;&gt;Upload Example Image&lt;/span&gt;&lt;/span&gt;&quot;' data-filetypes='[&quot;.png&quot;, &quot;.jpg&quot;, &quot;.jpeg&quot;]' data-multiple='false' data-kind='&quot;area&quot;'></marimo-file></marimo-ui-element></div><div><span>Example Transcription</span></div><div><marimo-ui-element object-id='qnkX-0' random-id='72f2bab8-69ad-4063-96a5-f33567ee7d3e'><marimo-text-area data-initial-value='&quot;&quot;' data-label='null' data-placeholder='&quot;Enter the correct transcription for the example image...&quot;' data-disabled='false' data-debounce='true' data-full-width='false'></marimo-text-area></marimo-ui-element></div><div><span>Target Image to Transcribe</span></div><div><marimo-ui-element object-id='TqIu-0' random-id='f347b96c-78cb-55f5-4ffd-d2bd31a78df2'><marimo-file data-initial-value='[]' data-label='&quot;&lt;span class=&#92;&quot;markdown prose dark:prose-invert&#92;&quot;&gt;&lt;span class=&#92;&quot;paragraph&#92;&quot;&gt;Upload Target Image to Transcribe&lt;/span&gt;&lt;/span&gt;&quot;' data-filetypes='[&quot;.png&quot;, &quot;.jpg&quot;, &quot;.jpeg&quot;]' data-multiple='false' data-kind='&quot;area&quot;'></marimo-file></marimo-ui-element></div><div><marimo-ui-element object-id='ulZA-0' random-id='efa86b9c-a2e3-708f-e3a3-abb7ddcf298d'><marimo-button data-initial-value='0' data-label='&quot;&lt;span class=&#92;&quot;markdown prose dark:prose-invert&#92;&quot;&gt;&lt;span class=&#92;&quot;paragraph&#92;&quot;&gt;Run One-Shot Transcription &#92;ud83c&#92;udfc3 &lt;/span&gt;&lt;/span&gt;&quot;' data-kind='&quot;success&quot;' data-disabled='false' data-full-width='false'></marimo-button></marimo-ui-element></div><div><span class=\"markdown prose dark:prose-invert\"></span></div></div></div><div data-kind='tab'><div style='display: flex;flex: 1;flex-direction: column;justify-content: flex-start;align-items: normal;flex-wrap: nowrap;gap: 0.5rem'><div><span>System Prompt</span></div><div><marimo-ui-element object-id='ZBYS-0' random-id='7642a4b5-09e4-ebd3-3d08-33a722c6a7d8'><marimo-text-area data-initial-value='&quot;You are an expert for medieval handwritten middle high german. I will provide you with an image of handwritten text and the output from a classical HTR (Handwritten Text Recognition) model. This output may contain errors. Your task is to correct any errors and provide an accurate transcription. Return the corrected text in markdown format.&quot;' data-label='null' data-placeholder='&quot;&quot;' data-disabled='false' data-debounce='true' data-full-width='false'></marimo-text-area></marimo-ui-element></div><div><span>Image</span></div><div><marimo-ui-element object-id='aLJB-0' random-id='46eb07b7-39c4-93cb-cb4c-4ccf93b2597f'><marimo-file data-initial-value='[]' data-label='&quot;&lt;span class=&#92;&quot;markdown prose dark:prose-invert&#92;&quot;&gt;&lt;span class=&#92;&quot;paragraph&#92;&quot;&gt;Upload Image&lt;/span&gt;&lt;/span&gt;&quot;' data-filetypes='[&quot;.png&quot;, &quot;.jpg&quot;, &quot;.jpeg&quot;]' data-multiple='false' data-kind='&quot;area&quot;'></marimo-file></marimo-ui-element></div><div><span>Classical HTR Output</span></div><div><marimo-ui-element object-id='xXTn-0' random-id='d8c7af87-6bb1-7a66-616b-a503c7d63a80'><marimo-text-area data-initial-value='&quot;&quot;' data-label='null' data-placeholder='&quot;Paste the output from your classical HTR model here...&quot;' data-disabled='false' data-debounce='true' data-full-width='false'></marimo-text-area></marimo-ui-element></div><div><marimo-ui-element object-id='AjVT-0' random-id='8ef75d68-85fe-5f5d-2b9e-e50a003d0518'><marimo-button data-initial-value='0' data-label='&quot;&lt;span class=&#92;&quot;markdown prose dark:prose-invert&#92;&quot;&gt;&lt;span class=&#92;&quot;paragraph&#92;&quot;&gt;Run HTR Improvement &#92;ud83c&#92;udfc3 &lt;/span&gt;&lt;/span&gt;&quot;' data-kind='&quot;success&quot;' data-disabled='false' data-full-width='false'></marimo-button></marimo-ui-element></div><div><span class=\"markdown prose dark:prose-invert\"></span></div></div></div></marimo-tabs></marimo-ui-element>"
      ]
     },
     "metadata": {},
     "output_type": "display_data"
    }
   ],
   "source": [
    "tabs = mo.ui.tabs({\n",
    "    \"Zero Shot\": zero_shot, \n",
    "    \"One Shot\": one_shot,\n",
    "    \"HTR Improvement\": htr_improvement\n",
    "})\n",
    "tabs"
   ]
  },
  {
   "cell_type": "code",
   "execution_count": null,
   "id": "iLit",
   "metadata": {},
   "outputs": [],
   "source": [
    "# run Zero-Shot Transcription\n",
    "zero_shot_result = None\n",
    "zero_shot_status = None\n",
    "\n",
    "if run_button.value:\n",
    "    try:\n",
    "        if file_upload.value:\n",
    "            # Start the loading spinner\n",
    "            zero_shot_status = mo.status.spinner(\n",
    "                title=\"Transcribing Image\",\n",
    "                subtitle=\"Sending request to OpenAI...\",\n",
    "            )\n",
    "\n",
    "            # Run the transcription\n",
    "            with zero_shot_status:\n",
    "                zero_shot_messages = [\n",
    "                    {\"type\": \"text\", \"text\": \"Please transcribe this handwritten text:\"},\n",
    "                    {\"type\": \"image_url\", \"image_url\": {\"url\": f\"data:image/jpeg;base64,{base64_image}\"}}\n",
    "                ]\n",
    "\n",
    "                zero_shot_result = get_transcription(\n",
    "                    client=client,\n",
    "                    model=\"gpt-4o\",\n",
    "                    system_prompt=prompt_text.value,\n",
    "                    messages=zero_shot_messages,\n",
    "                    response_format=TranscriptionPage\n",
    "                )\n",
    "\n",
    "            # Check if result is an error\n",
    "            if hasattr(zero_shot_result, 'is_error') and zero_shot_result.is_error:\n",
    "                zero_shot_set(f\"**Error**: {zero_shot_result.text}\")\n",
    "            else:\n",
    "                # Create the output using mo.hstack and convert to HTML string\n",
    "                zero_shot_output_content = mo.hstack(\n",
    "                    items=[\n",
    "                        mo.image(file_upload.value[0].contents), \n",
    "                        mo.md(f\"### Transcription: \\n {zero_shot_result.text}\")\n",
    "                    ],\n",
    "                    widths=\"equal\",\n",
    "                    gap=1,\n",
    "                    align=\"start\",\n",
    "                    justify=\"center\"\n",
    "                )\n",
    "                zero_shot_set(zero_shot_output_content._repr_html_())\n",
    "        else:\n",
    "            zero_shot_set(\"**Please upload an image file first!**\")\n",
    "    except Exception as e:\n",
    "        zero_shot_set(f\"**Error**: {e}\")"
   ]
  },
  {
   "cell_type": "code",
   "execution_count": null,
   "id": "ZHCJ",
   "metadata": {},
   "outputs": [],
   "source": [
    "# System Prompt for One Shot\n",
    "one_shot_prompt_text = mo.ui.text_area(value=\"You are an expert for medieval handwritten middle high german. Here is an example of a handwritten text and its transcription. Use this example to help you transcribe the new text. Transcribe the text in this image exactly and return it in markdown format.\")"
   ]
  },
  {
   "cell_type": "code",
   "execution_count": null,
   "id": "ROlb",
   "metadata": {},
   "outputs": [],
   "source": [
    "# Example Image Upload\n",
    "example_file_upload = mo.ui.file(kind=\"area\", filetypes=[\".png\", \".jpg\", \".jpeg\"], multiple=False, label=\"Upload Example Image\")"
   ]
  },
  {
   "cell_type": "code",
   "execution_count": null,
   "id": "qnkX",
   "metadata": {},
   "outputs": [],
   "source": [
    "# Example Transcription\n",
    "example_transcription = mo.ui.text_area(label=\"\", placeholder=\"Enter the correct transcription for the example image...\")\n",
    "\n",
    "if example_file_upload.value:\n",
    "    mo.output.replace(mo.md(\"**Example image uploaded successfully!**\"))"
   ]
  },
  {
   "cell_type": "code",
   "execution_count": null,
   "id": "TqIu",
   "metadata": {},
   "outputs": [],
   "source": [
    "# Target Image Upload for One Shot\n",
    "one_shot_file_upload = mo.ui.file(kind=\"area\", filetypes=[\".png\", \".jpg\", \".jpeg\"], multiple=False, label=\"Upload Target Image to Transcribe\")"
   ]
  },
  {
   "cell_type": "code",
   "execution_count": null,
   "id": "Vxnm",
   "metadata": {},
   "outputs": [],
   "source": [
    "if one_shot_file_upload.value:\n",
    "    one_shot_base64_image = encode_image_to_base64(one_shot_file_upload.value[0].contents)\n",
    "    mo.output.replace(mo.md(\"**Target image uploaded successfully!**\"))\n",
    "else:\n",
    "    one_shot_base64_image = None"
   ]
  },
  {
   "cell_type": "code",
   "execution_count": null,
   "id": "DnEU",
   "metadata": {},
   "outputs": [],
   "source": [
    "if example_file_upload.value:\n",
    "    example_base64_image = encode_image_to_base64(example_file_upload.value[0].contents)\n",
    "else:\n",
    "    example_base64_image = None"
   ]
  },
  {
   "cell_type": "code",
   "execution_count": null,
   "id": "ulZA",
   "metadata": {},
   "outputs": [],
   "source": [
    "one_shot_run_button = mo.ui.run_button(label=\"Run One-Shot Transcription 🏃 \", kind=\"success\")"
   ]
  },
  {
   "cell_type": "code",
   "execution_count": null,
   "id": "ecfG",
   "metadata": {},
   "outputs": [],
   "source": [
    "# run One-Shot Transcription\n",
    "one_shot_result = None\n",
    "one_shot_status = None\n",
    "\n",
    "if one_shot_run_button.value:\n",
    "    try:\n",
    "        if one_shot_file_upload.value and example_file_upload.value and example_transcription.value:\n",
    "            # Start the loading spinner\n",
    "            one_shot_status = mo.status.spinner(\n",
    "                title=\"Transcribing Image with One-Shot Learning\",\n",
    "                subtitle=\"Sending request to OpenAI...\",\n",
    "            )\n",
    "\n",
    "            # Prepare the messages with example and target\n",
    "            with one_shot_status:\n",
    "                one_shot_messages = [\n",
    "                    {\"type\": \"text\", \"text\": \"Here is an example of handwritten text:\"},\n",
    "                    {\"type\": \"image_url\", \"image_url\": {\"url\": f\"data:image/jpeg;base64,{example_base64_image}\"}},\n",
    "                    {\"type\": \"text\", \"text\": f\"The correct transcription is:\\n{example_transcription.value}\\n\\nNow please transcribe this new text:\"},\n",
    "                    {\"type\": \"image_url\", \"image_url\": {\"url\": f\"data:image/jpeg;base64,{one_shot_base64_image}\"}}\n",
    "                ]\n",
    "\n",
    "                one_shot_result = get_transcription(\n",
    "                    client=client,\n",
    "                    model=\"gpt-4o\",\n",
    "                    system_prompt=one_shot_prompt_text.value,\n",
    "                    messages=one_shot_messages,\n",
    "                    response_format=TranscriptionPage\n",
    "                )\n",
    "\n",
    "            # Check if result is an error\n",
    "            if hasattr(one_shot_result, 'is_error') and one_shot_result.is_error:\n",
    "                one_shot_set(f\"**Error**: {one_shot_result.text}\")\n",
    "            else:\n",
    "                one_shot_output_content = mo.hstack(\n",
    "                    items=[\n",
    "                        mo.image(one_shot_file_upload.value[0].contents), \n",
    "                        mo.md(f\"### Transcription: \\n {one_shot_result.text}\")\n",
    "                    ],\n",
    "                    widths=\"equal\",\n",
    "                    gap=1,\n",
    "                    align=\"start\",\n",
    "                    justify=\"center\"\n",
    "                )\n",
    "                one_shot_set(one_shot_output_content._repr_html_())\n",
    "        else:\n",
    "            one_shot_missing = []\n",
    "            if not example_file_upload.value:\n",
    "                one_shot_missing.append(\"example image\")\n",
    "            if not example_transcription.value:\n",
    "                one_shot_missing.append(\"example transcription\")\n",
    "            if not one_shot_file_upload.value:\n",
    "                one_shot_missing.append(\"target image\")\n",
    "\n",
    "            one_shot_set(f\"**Missing required inputs: {', '.join(one_shot_missing)}**\")\n",
    "    except Exception as e:\n",
    "        one_shot_set(f\"**Error**: {e}\")"
   ]
  },
  {
   "cell_type": "code",
   "execution_count": null,
   "id": "Pvdt",
   "metadata": {},
   "outputs": [],
   "source": [
    "one_shot = mo.vstack([\n",
    "    \"System Prompt\", one_shot_prompt_text,\n",
    "    \"Example Image\", example_file_upload,\n",
    "    \"Example Transcription\", example_transcription,\n",
    "    \"Target Image to Transcribe\", one_shot_file_upload,\n",
    "    one_shot_run_button,\n",
    "    mo.md(one_shot_get())\n",
    "])"
   ]
  },
  {
   "cell_type": "code",
   "execution_count": null,
   "id": "ZBYS",
   "metadata": {},
   "outputs": [],
   "source": [
    "# System Prompt for HTR Improvement\n",
    "htr_prompt_text = mo.ui.text_area(value=\"You are an expert for medieval handwritten middle high german. I will provide you with an image of handwritten text and the output from a classical HTR (Handwritten Text Recognition) model. This output may contain errors. Your task is to correct any errors and provide an accurate transcription. Return the corrected text in markdown format.\")"
   ]
  },
  {
   "cell_type": "code",
   "execution_count": null,
   "id": "aLJB",
   "metadata": {},
   "outputs": [],
   "source": [
    "# Image Upload for HTR Improvement\n",
    "htr_file_upload = mo.ui.file(kind=\"area\", filetypes=[\".png\", \".jpg\", \".jpeg\"], multiple=False, label=\"Upload Image\")"
   ]
  },
  {
   "cell_type": "code",
   "execution_count": null,
   "id": "nHfw",
   "metadata": {},
   "outputs": [],
   "source": [
    "# Process the uploaded image\n",
    "if htr_file_upload.value:\n",
    "    htr_base64_image = encode_image_to_base64(htr_file_upload.value[0].contents)\n",
    "    mo.output.replace(mo.md(\"**Image uploaded successfully!**\"))\n",
    "else:\n",
    "    htr_base64_image = None"
   ]
  },
  {
   "cell_type": "code",
   "execution_count": null,
   "id": "xXTn",
   "metadata": {},
   "outputs": [],
   "source": [
    "# HTR Output\n",
    "htr_output = mo.ui.text_area(label=\"\", placeholder=\"Paste the output from your classical HTR model here...\")"
   ]
  },
  {
   "cell_type": "code",
   "execution_count": null,
   "id": "AjVT",
   "metadata": {},
   "outputs": [],
   "source": [
    "# Run button for HTR Improvement\n",
    "htr_run_button = mo.ui.run_button(label=\"Run HTR Improvement 🏃 \", kind=\"success\")"
   ]
  },
  {
   "cell_type": "code",
   "execution_count": null,
   "id": "pHFh",
   "metadata": {},
   "outputs": [],
   "source": [
    "# Run HTR Improvement\n",
    "htr_result = None\n",
    "htr_status = None\n",
    "\n",
    "if htr_run_button.value:\n",
    "    try:\n",
    "        if htr_file_upload.value and htr_output.value:\n",
    "            # Start the loading spinner\n",
    "            htr_status = mo.status.spinner(\n",
    "                title=\"Improving HTR Output\",\n",
    "                subtitle=\"Sending request to OpenAI...\",\n",
    "            )\n",
    "\n",
    "            # Run the transcription improvement\n",
    "            with htr_status:\n",
    "                htr_messages = [\n",
    "                    {\"type\": \"text\", \"text\": \"Here is a handwritten text image:\"},\n",
    "                    {\"type\": \"image_url\", \"image_url\": {\"url\": f\"data:image/jpeg;base64,{htr_base64_image}\"}},\n",
    "                    {\"type\": \"text\", \"text\": f\"The classical HTR model produced this output:\\n\\n```\\n{htr_output.value}\\n```\\n\\nPlease correct any errors and provide an accurate transcription.\"}\n",
    "                ]\n",
    "\n",
    "                htr_result = get_transcription(\n",
    "                    client=client,\n",
    "                    model=\"gpt-4o\",\n",
    "                    system_prompt=htr_prompt_text.value,\n",
    "                    messages=htr_messages,\n",
    "                    response_format=TranscriptionPage\n",
    "                )\n",
    "\n",
    "            # Check if result is an error\n",
    "            if hasattr(htr_result, 'is_error') and htr_result.is_error:\n",
    "                htr_set(f\"**Error**: {htr_result.text}\")\n",
    "            else:\n",
    "                htr_output_content = mo.vstack([\n",
    "                    mo.hstack(\n",
    "                        items=[\n",
    "                            mo.image(htr_file_upload.value[0].contents),\n",
    "                            mo.vstack([\n",
    "                                mo.md(\"### Original HTR Output:\"),\n",
    "                                mo.md(f\"```\\n{htr_output.value}\\n```\")\n",
    "                            ])\n",
    "                        ],\n",
    "                        widths=\"equal\",\n",
    "                        gap=1,\n",
    "                        align=\"start\",\n",
    "                        justify=\"center\"\n",
    "                    ),\n",
    "                    mo.md(\"### Improved Transcription:\"),\n",
    "                    mo.md(f\"{htr_result.text}\")\n",
    "                ])\n",
    "                htr_set(htr_output_content._repr_html_())\n",
    "        else:\n",
    "            htr_missing = []\n",
    "            if not htr_file_upload.value:\n",
    "                htr_missing.append(\"image\")\n",
    "            if not htr_output.value:\n",
    "                htr_missing.append(\"HTR output\")\n",
    "\n",
    "            htr_set(f\"**Missing required inputs: {', '.join(htr_missing)}**\")\n",
    "    except Exception as e:\n",
    "        htr_set(f\"**Error**: {e}\")"
   ]
  },
  {
   "cell_type": "code",
   "execution_count": null,
   "id": "NCOB",
   "metadata": {},
   "outputs": [],
   "source": [
    "# Create the HTR improvement tab\n",
    "htr_improvement = mo.vstack([\n",
    "    \"System Prompt\", htr_prompt_text,\n",
    "    \"Image\", htr_file_upload,\n",
    "    \"Classical HTR Output\", htr_output,\n",
    "    htr_run_button,\n",
    "    mo.md(htr_get())\n",
    "])"
   ]
  },
  {
   "cell_type": "code",
   "execution_count": null,
   "id": "aqbW",
   "metadata": {},
   "outputs": [],
   "source": []
  }
 ],
 "metadata": {},
 "nbformat": 4,
 "nbformat_minor": 5
}
