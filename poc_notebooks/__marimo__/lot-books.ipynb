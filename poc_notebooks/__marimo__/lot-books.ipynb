{
 "cells": [
  {
   "cell_type": "code",
   "execution_count": null,
   "id": "Hbol",
   "metadata": {},
   "outputs": [],
   "source": [
    "import marimo as mo"
   ]
  },
  {
   "cell_type": "markdown",
   "id": "MJUe",
   "metadata": {},
   "source": [
    "# Proof of Concept: Using MMLLMs to improve transcription of medieval handwriting"
   ]
  },
  {
   "cell_type": "markdown",
   "id": "vblA",
   "metadata": {},
   "source": [
    "## Settings\n",
    "enter you Openai API Key below"
   ]
  },
  {
   "cell_type": "code",
   "execution_count": null,
   "id": "bkHC",
   "metadata": {},
   "outputs": [
    {
     "data": {
      "text/html": [
       "<marimo-ui-element object-id='bkHC-0' random-id='768d5030-bad3-5958-4468-53b1b1fc0955'><marimo-text data-initial-value='&quot;&quot;' data-label='null' data-placeholder='&quot;OPEN AI API KEY ...&quot;' data-kind='&quot;password&quot;' data-full-width='false' data-disabled='false' data-debounce='true'></marimo-text></marimo-ui-element>"
      ]
     },
     "metadata": {},
     "output_type": "display_data"
    }
   ],
   "source": [
    "OPENAI_API_KEY = mo.ui.text(placeholder=\"OPEN AI API KEY ...\", kind=\"password\")\n",
    "OPENAI_API_KEY"
   ]
  },
  {
   "cell_type": "code",
   "execution_count": null,
   "id": "lEQa",
   "metadata": {},
   "outputs": [],
   "source": [
    "import os\n",
    "from openai import OpenAI\n",
    "if OPENAI_API_KEY.value:\n",
    "    client = OpenAI(api_key= OPENAI_API_KEY.value)"
   ]
  },
  {
   "cell_type": "code",
   "execution_count": null,
   "id": "PKri",
   "metadata": {},
   "outputs": [],
   "source": [
    "# System Prompt\n",
    "prompt_text = mo.ui.text_area(value=\"You are an expert for medieval handwritten middle high german. Transcribe the text in this image exactly and return it in markdown format.\")"
   ]
  },
  {
   "cell_type": "code",
   "execution_count": null,
   "id": "Xref",
   "metadata": {},
   "outputs": [],
   "source": [
    "# Image Upload\n",
    "file_upload = mo.ui.file(kind=\"area\", filetypes=[\".png\", \".jpg\", \".jpeg\"], multiple=False, label=\"Upload Image\")"
   ]
  },
  {
   "cell_type": "code",
   "execution_count": null,
   "id": "SFPL",
   "metadata": {},
   "outputs": [],
   "source": [
    "import base64\n",
    "\n",
    "def encode_image_to_base64(image_file):\n",
    "    \"\"\"Utility function to encode image file to base64.\"\"\"\n",
    "    if image_file:\n",
    "        return base64.b64encode(image_file).decode(\"utf-8\")\n",
    "    return None\n",
    "\n",
    "# Handle zero-shot image\n",
    "if file_upload.value:\n",
    "    base64_image = encode_image_to_base64(file_upload.value[0].contents)\n",
    "else:\n",
    "    base64_image = None"
   ]
  },
  {
   "cell_type": "code",
   "execution_count": null,
   "id": "BYtC",
   "metadata": {},
   "outputs": [],
   "source": [
    "# Create state variables for outputs\n",
    "zero_shot_get, zero_shot_set = mo.state(\"\")\n",
    "one_shot_get, one_shot_set = mo.state(\"\")\n",
    "htr_get, htr_set = mo.state(\"\")"
   ]
  },
  {
   "cell_type": "code",
   "execution_count": null,
   "id": "RGSE",
   "metadata": {},
   "outputs": [],
   "source": [
    "from pydantic import BaseModel, Field\n",
    "\n",
    "class TranscriptionPage(BaseModel):\n",
    "    text: str = Field(..., description=\"The transcribed text of the page in Markdown.\")\n",
    "\n",
    "class TranscriptionError(BaseModel):\n",
    "    text: str = Field(..., description=\"Error message when transcription fails.\")\n",
    "    is_error: bool = Field(default=True, description=\"Flag indicating this is an error.\")\n",
    "\n",
    "def get_transcription(client, model, system_prompt, messages, response_format):\n",
    "\n",
    "    try:\n",
    "        completion = client.beta.chat.completions.parse(\n",
    "            model=model,\n",
    "            messages=[\n",
    "                {\"role\": \"system\", \"content\": system_prompt},\n",
    "                {\"role\": \"user\", \"content\": messages}\n",
    "            ],\n",
    "            response_format=response_format,\n",
    "        )\n",
    "        return completion.choices[0].message.parsed\n",
    "    except Exception as e:\n",
    "        # Return an object with a text attribute for consistent interface\n",
    "        return TranscriptionError(text=f\"Error: {str(e)}\")"
   ]
  },
  {
   "cell_type": "code",
   "execution_count": null,
   "id": "Kclp",
   "metadata": {},
   "outputs": [],
   "source": [
    "run_button = mo.ui.run_button(label=\"Run Transcription 🏃 \", kind=\"success\")"
   ]
  },
  {
   "cell_type": "code",
   "execution_count": null,
   "id": "emfo",
   "metadata": {},
   "outputs": [],
   "source": [
    "zero_shot = mo.vstack([\n",
    "    \"System Prompt\", prompt_text,\n",
    "    \"Image to transcribe\", file_upload,\n",
    "    run_button,\n",
    "    mo.md(zero_shot_get())\n",
    "    ])"
   ]
  },
  {
   "cell_type": "code",
   "execution_count": null,
   "id": "Hstk",
   "metadata": {},
   "outputs": [],
   "source": [
    "# Transcription Type"
   ]
  },
  {
   "cell_type": "code",
   "execution_count": null,
   "id": "nWHF",
   "metadata": {},
   "outputs": [
    {
     "data": {
      "text/html": [
       "<marimo-ui-element object-id='nWHF-0' random-id='39e552b3-6498-898a-4724-a5fba9e6d769'><marimo-tabs data-initial-value='&quot;&quot;' data-label='null' data-tabs='[&quot;&lt;span class=&#92;&quot;markdown prose dark:prose-invert&#92;&quot;&gt;&lt;span class=&#92;&quot;paragraph&#92;&quot;&gt;Zero Shot&lt;/span&gt;&lt;/span&gt;&quot;, &quot;&lt;span class=&#92;&quot;markdown prose dark:prose-invert&#92;&quot;&gt;&lt;span class=&#92;&quot;paragraph&#92;&quot;&gt;One Shot&lt;/span&gt;&lt;/span&gt;&quot;, &quot;&lt;span class=&#92;&quot;markdown prose dark:prose-invert&#92;&quot;&gt;&lt;span class=&#92;&quot;paragraph&#92;&quot;&gt;HTR Improvement&lt;/span&gt;&lt;/span&gt;&quot;]'><div data-kind='tab'><div style='display: flex;flex: 1;flex-direction: column;justify-content: flex-start;align-items: normal;flex-wrap: nowrap;gap: 0.5rem'><div><span>System Prompt</span></div><div><marimo-ui-element object-id='PKri-0' random-id='5827d992-c5c1-4dde-79c7-51e21708e046'><marimo-text-area data-initial-value='&quot;You are an expert for medieval handwritten middle high german. Transcribe the text in this image exactly and return it in markdown format.&quot;' data-label='null' data-placeholder='&quot;&quot;' data-disabled='false' data-debounce='true' data-full-width='false'></marimo-text-area></marimo-ui-element></div><div><span>Image to transcribe</span></div><div><marimo-ui-element object-id='Xref-0' random-id='4c3a6a0a-033c-fa26-b171-fc245d741ed2'><marimo-file data-initial-value='[]' data-label='&quot;&lt;span class=&#92;&quot;markdown prose dark:prose-invert&#92;&quot;&gt;&lt;span class=&#92;&quot;paragraph&#92;&quot;&gt;Upload Image&lt;/span&gt;&lt;/span&gt;&quot;' data-filetypes='[&quot;.png&quot;, &quot;.jpg&quot;, &quot;.jpeg&quot;]' data-multiple='false' data-kind='&quot;area&quot;'></marimo-file></marimo-ui-element></div><div><marimo-ui-element object-id='Kclp-0' random-id='2ad4f3a7-29b9-5d5c-909d-e328dd548526'><marimo-button data-initial-value='0' data-label='&quot;&lt;span class=&#92;&quot;markdown prose dark:prose-invert&#92;&quot;&gt;&lt;span class=&#92;&quot;paragraph&#92;&quot;&gt;Run Transcription &#92;ud83c&#92;udfc3 &lt;/span&gt;&lt;/span&gt;&quot;' data-kind='&quot;success&quot;' data-disabled='false' data-full-width='false'></marimo-button></marimo-ui-element></div><div><span class=\"markdown prose dark:prose-invert\"><div style='display: flex;flex: 1;flex-direction: row;justify-content: center;align-items: flex-start;flex-wrap: nowrap;gap: 1rem'><div style='flex: 1'><img src='./@file/403280-9507608-jKKxWpKB.png' /></div><div style='flex: 1'><span class=\"markdown prose dark:prose-invert\"><h3 id=\"transcription\">Transcription:</h3>\n",
       "<span class=\"paragraph\">Omnibus animantibus adam primus uocabula inposuit appellans unicuique nomen ex presenti instinctu uirtutis conuentionem naturae cum sensu rerum. gentes autem unicuique animalium ex propria lingua dedere uocabula. non autem ladinam lingua atque grecam. quia nullum gentinum barbararum nomina impouit adam. si illa lingua quae ante diluuium una fuer omnes quae hebrea nuncupatur. Latina autem animalia siue animanda dicta. significantur uita et mouente spiritu. quadrupe diuocata. eo quod pedes grauida nunc. que dum similia sunt pecoribus sub tribu uana humana non sunt uere certu. damne. oranger et cetera. si nec bestie sunt. aut leones. nec numeria ut inter hominum uenare possinte. prae dicam. onne qui humana lingua ex effigie carree. proprie aut pecorum nomi et animalia acomodari solent. que fit ad usfendum apta ut uera sunt. aut in usu hominum commoda. aut in eorum usus existete aut pecora et pecudes. iam uerestes communicant significatione omnis animalium pecora plerumque a pecudibus differens. animalia autem hi pecudes perhelcium nostram etiam in usu a pascendo uocantur. lumentia nonus pecore. animalium perit et non suo subiucto subiucendo. uel arando. uinentia. nam bos carpenta truh et dum insimat. ter glebal solueuntur. equus autem portant ora et hominum in gradiendo labores temperant. uis et uumenta appellantur. ad ea quod nuuente homines. sed enim magnas utrum alia quae. ite carmina tau autem item armata. apud. bello. ubi oberit un armis uerunt. sed arma boues intulingunt ab adiando quasi aratra et octe comites armata obliterato. factum nec armenia et greges. nam armenia equoque boum sunt greges et uafarnum eorum.\"</span></span></div></div></span></div></div></div><div data-kind='tab'><div style='display: flex;flex: 1;flex-direction: column;justify-content: flex-start;align-items: normal;flex-wrap: nowrap;gap: 0.5rem'><div><span>System Prompt</span></div><div><marimo-ui-element object-id='ZHCJ-0' random-id='cb6b8735-e676-1fca-4034-4f0b3b1097e7'><marimo-text-area data-initial-value='&quot;You are an expert for medieval handwritten middle high german. Here is an example of a handwritten text and its transcription. Use this example to help you transcribe the new text. Transcribe the text in this image exactly and return it in markdown format.&quot;' data-label='null' data-placeholder='&quot;&quot;' data-disabled='false' data-debounce='true' data-full-width='false'></marimo-text-area></marimo-ui-element></div><div><span>Example Image</span></div><div><marimo-ui-element object-id='ROlb-0' random-id='b64ebeda-32ce-2b2a-138d-7487d5417e3c'><marimo-file data-initial-value='[]' data-label='&quot;&lt;span class=&#92;&quot;markdown prose dark:prose-invert&#92;&quot;&gt;&lt;span class=&#92;&quot;paragraph&#92;&quot;&gt;Upload Example Image&lt;/span&gt;&lt;/span&gt;&quot;' data-filetypes='[&quot;.png&quot;, &quot;.jpg&quot;, &quot;.jpeg&quot;]' data-multiple='false' data-kind='&quot;area&quot;'></marimo-file></marimo-ui-element></div><div><span>Example Transcription</span></div><div><marimo-ui-element object-id='qnkX-0' random-id='e1e83917-f6ad-ba2e-8657-84c93c0b8a64'><marimo-text-area data-initial-value='&quot;&quot;' data-label='null' data-placeholder='&quot;Enter the correct transcription for the example image...&quot;' data-disabled='false' data-debounce='true' data-full-width='false'></marimo-text-area></marimo-ui-element></div><div><span>Target Image to Transcribe</span></div><div><marimo-ui-element object-id='TqIu-0' random-id='4254a8c9-7d51-5721-9621-2bef73894866'><marimo-file data-initial-value='[]' data-label='&quot;&lt;span class=&#92;&quot;markdown prose dark:prose-invert&#92;&quot;&gt;&lt;span class=&#92;&quot;paragraph&#92;&quot;&gt;Upload Target Image to Transcribe&lt;/span&gt;&lt;/span&gt;&quot;' data-filetypes='[&quot;.png&quot;, &quot;.jpg&quot;, &quot;.jpeg&quot;]' data-multiple='false' data-kind='&quot;area&quot;'></marimo-file></marimo-ui-element></div><div><marimo-ui-element object-id='ulZA-0' random-id='a0aa2f26-e8b6-e933-59db-79162dff3385'><marimo-button data-initial-value='0' data-label='&quot;&lt;span class=&#92;&quot;markdown prose dark:prose-invert&#92;&quot;&gt;&lt;span class=&#92;&quot;paragraph&#92;&quot;&gt;Run One-Shot Transcription &#92;ud83c&#92;udfc3 &lt;/span&gt;&lt;/span&gt;&quot;' data-kind='&quot;success&quot;' data-disabled='false' data-full-width='false'></marimo-button></marimo-ui-element></div><div><span class=\"markdown prose dark:prose-invert\"><div style='display: flex;flex: 1;flex-direction: row;justify-content: center;align-items: flex-start;flex-wrap: nowrap;gap: 1rem'><div style='flex: 1'><img src='./@file/5205987-9507608-rFsdJDDA.png' /></div><div style='flex: 1'><span class=\"markdown prose dark:prose-invert\"><h3 id=\"transcription\">Transcription:</h3>\n",
       "<span class=\"paragraph\"># Der blumen Rinck</span>\n",
       "<h2 id=\"solsequium\">Solsequium</h2>\n",
       "<span class=\"paragraph\">Matheum Suche Jn salomons Buch</span>\n",
       "<h2 id=\"nophilea\">Nophilea</h2>\n",
       "<span class=\"paragraph\">Matiam Suche in lazari Buch</span>\n",
       "<h2 id=\"viola\">Viola</h2>\n",
       "<span class=\"paragraph\">Philippum Such Jn lesayas buch</span>\n",
       "<h2 id=\"lunbifolia\">Lunbifolia</h2>\n",
       "<span class=\"paragraph\">Matheus Buch in Jhosue</span>\n",
       "<h2 id=\"rosa\">Rosa</h2>\n",
       "<span class=\"paragraph\">Simona Suche Jn parabolas buch</span>\n",
       "<h2 id=\"camba\">Camba</h2>\n",
       "<span class=\"paragraph\">Bartolomeum Nach nuria buch</span>\n",
       "<h2 id=\"adianth\">Adianth</h2>\n",
       "<span class=\"paragraph\">Thomas Suche jn ioannis buch</span>\n",
       "<h2 id=\"papus\">Papus</h2>\n",
       "<span class=\"paragraph\">Paulum Suche Jn iacobi buch</span>\n",
       "<h2 id=\"lalchenus\">Lalchenus</h2>\n",
       "<span class=\"paragraph\">Bartolomeum Jn propheta iohel</span>\n",
       "<h2 id=\"enaula\">Enaula</h2>\n",
       "<span class=\"paragraph\">Simon Suche threhistor Buch</span></span></div></div></span></div></div></div><div data-kind='tab'><div style='display: flex;flex: 1;flex-direction: column;justify-content: flex-start;align-items: normal;flex-wrap: nowrap;gap: 0.5rem'><div><span>System Prompt</span></div><div><marimo-ui-element object-id='ZBYS-0' random-id='74bf8bab-eb15-c27c-1a1c-65efcb90f6ab'><marimo-text-area data-initial-value='&quot;You are an expert for medieval handwritten middle high german. I will provide you with an image of handwritten text and the output from a classical HTR (Handwritten Text Recognition) model. This output may contain errors. Your task is to correct any errors and provide an accurate transcription. Return the corrected text in markdown format.&quot;' data-label='null' data-placeholder='&quot;&quot;' data-disabled='false' data-debounce='true' data-full-width='false'></marimo-text-area></marimo-ui-element></div><div><span>Image</span></div><div><marimo-ui-element object-id='aLJB-0' random-id='de33a10c-a291-0948-fe3e-097f9f1e2ed3'><marimo-file data-initial-value='[]' data-label='&quot;&lt;span class=&#92;&quot;markdown prose dark:prose-invert&#92;&quot;&gt;&lt;span class=&#92;&quot;paragraph&#92;&quot;&gt;Upload Image&lt;/span&gt;&lt;/span&gt;&quot;' data-filetypes='[&quot;.png&quot;, &quot;.jpg&quot;, &quot;.jpeg&quot;]' data-multiple='false' data-kind='&quot;area&quot;'></marimo-file></marimo-ui-element></div><div><span>Classical HTR Output</span></div><div><marimo-ui-element object-id='xXTn-0' random-id='41fd4aa8-6659-c246-d6ff-ee68b516b5bf'><marimo-text-area data-initial-value='&quot;&quot;' data-label='null' data-placeholder='&quot;Paste the output from your classical HTR model here...&quot;' data-disabled='false' data-debounce='true' data-full-width='false'></marimo-text-area></marimo-ui-element></div><div><marimo-ui-element object-id='AjVT-0' random-id='e977b27a-6d78-720e-377c-950196b5ddc3'><marimo-button data-initial-value='0' data-label='&quot;&lt;span class=&#92;&quot;markdown prose dark:prose-invert&#92;&quot;&gt;&lt;span class=&#92;&quot;paragraph&#92;&quot;&gt;Run HTR Improvement &#92;ud83c&#92;udfc3 &lt;/span&gt;&lt;/span&gt;&quot;' data-kind='&quot;success&quot;' data-disabled='false' data-full-width='false'></marimo-button></marimo-ui-element></div><div><span class=\"markdown prose dark:prose-invert\"><div style='display: flex;flex: 1;flex-direction: column;justify-content: flex-start;align-items: normal;flex-wrap: nowrap;gap: 0.5rem'><div><div style='display: flex;flex: 1;flex-direction: row;justify-content: center;align-items: flex-start;flex-wrap: nowrap;gap: 1rem'><div style='flex: 1'><img src='./@file/8826647-9507608-7CpDZKcw.png' /></div><div style='flex: 1'><div style='display: flex;flex: 1;flex-direction: column;justify-content: flex-start;align-items: normal;flex-wrap: nowrap;gap: 0.5rem'><div><span class=\"markdown prose dark:prose-invert\"><h3 id=\"original-htr-output\">Original HTR Output:</h3></span></div><div><span class=\"markdown prose dark:prose-invert\"><div class=\"codehilite\"><pre><span></span><code>clistintamaculis .uirtute eruelocitate mirabilis excui\n",
       "nomine flumentẏgris appellatur qal is rapiclissimꝰ sit\n",
       "ommimlluiorum has magis huramagignit. Tigs\n",
       "uubiuacuum rapte sobolis repperit cubile:ilico rapto\n",
       "risuestigns insistit.At ille qmuis equo uectus fugaci ui\n",
       "clens inuelocitate fere se puerci. nec euaclencli ullum sub\n",
       "pete sibi posse subsichunr ternam hummocli fraucle mo\n",
       "litur Abi se contiguum uiclerit:speram cle uitropicit.\n",
       "Et illa ẏmagine suiluclitur et sobolem putat.Neuosat\n",
       "impetum collige fecum clesiclerans.Nursus manispecie\n",
       "recenta. totis se aclcomphenclenclum equitemuiribz\n",
       "funclit. et iracunclie stimulo uelocit fugientiimminet.\n",
       "frum ille spere obieccu sequentemrecamat.nec tn secluli\n",
       "tatem matrismemoria frauclis exrcluolit. qassamuersat\n",
       "ymaginem.et qilaccatura fecum resiclec. Sicq: pietatis\n",
       "sue stuclio clecepta:er uinclictam amittit etplem.De\n",
       "AAR ASatatsachv\n",
       "parclo\n",
       "arclus e\n",
       "genuari\n",
       "um ac uelo\n",
       "cissimu er p\n",
       "cepsaclsang\n",
       "nem saltu\n",
       "emimaclmor\n",
       "tem rint • lo=\n",
       "eAAARGU\n",
       "paralus grail\n",
       "ulterio le\n",
       "ascitur er parli er tercianforiginem efficit.\n",
       "sicut er plemꝰ mnaturali hystoria clicit . Haonemumm par\n",
       "cla aut panlumcleena concumbere.er erutroq clegeneres\n",
       "</code></pre></div></span></div></div></div></div></div><div><span class=\"markdown prose dark:prose-invert\"><h3 id=\"improved-transcription\">Improved Transcription:</h3></span></div><div><span class=\"markdown prose dark:prose-invert\"><span class=\"paragraph\">distinta maculis. virtute et velocitate mirabilis, ex cui\n",
       "nomine flumen Tigris appellatur quod sit rapidissimus\n",
       "omnium fluviorum. Has magis humana gignit. Tigris\n",
       "ubi vacuum raptae sobolis repperit cubile: ilico raptor\n",
       "is vestigiis insistit. At ille quamvis equo vectus fugaci vi\n",
       "cens in velocitate fere se precurrit, nec evadendi ullum sub\n",
       "petit sibi posse subsidium: terram huius modi fraude mo\n",
       "litur. Ubi se contiguum viderit: speram de vitro proiect.\n",
       "Et illa imagine sui luditur et sobolem putat. Nevo sat\n",
       "impetum colligit secum desiderans. Rursum manu specie\n",
       "recentia, totis se ad comprehendendum equitem viribus\n",
       "fundit. et iracundiae stimulo velocis fugientem imminet.\n",
       "Ipsum ille spe obiectu sequentem recamat, nec tamen se cal\n",
       "latem matris memoria fraudis excludit. Casam versat\n",
       "imaginem, et quia lacratura secum residet. Sicque pietatis\n",
       "sui studio decepta: er vinciditam amittit ex plem. De\n",
       "pardo.\n",
       "Artus est\n",
       "genit varium ac velo\n",
       "cissimus, er p\n",
       "ceps ad sagn\n",
       "nem, saltum\n",
       "emim ad mortem ruit. Leo\n",
       "pardo graditur\n",
       "utero leonis nascitur, et parti, et tertiam forniginem efficit.\n",
       "sicut et plenus in naturali historia dicit. Leonem um pa\n",
       "rda aut pantem celena concumbere, et ex utroque degeneres.</span></span></div></div></span></div></div></div></marimo-tabs></marimo-ui-element>"
      ]
     },
     "metadata": {},
     "output_type": "display_data"
    }
   ],
   "source": [
    "tabs = mo.ui.tabs({\n",
    "    \"Zero Shot\": zero_shot, \n",
    "    \"One Shot\": one_shot,\n",
    "    \"HTR Improvement\": htr_improvement\n",
    "})\n",
    "tabs"
   ]
  },
  {
   "cell_type": "code",
   "execution_count": null,
   "id": "iLit",
   "metadata": {},
   "outputs": [],
   "source": [
    "# run Zero-Shot Transcription\n",
    "zero_shot_result = None\n",
    "zero_shot_status = None\n",
    "\n",
    "if run_button.value:\n",
    "    try:\n",
    "        if file_upload.value:\n",
    "            # Start the loading spinner\n",
    "            zero_shot_status = mo.status.spinner(\n",
    "                title=\"Transcribing Image\",\n",
    "                subtitle=\"Sending request to OpenAI...\",\n",
    "            )\n",
    "\n",
    "            # Run the transcription\n",
    "            with zero_shot_status:\n",
    "                zero_shot_messages = [\n",
    "                    {\"type\": \"text\", \"text\": \"Please transcribe this handwritten text:\"},\n",
    "                    {\"type\": \"image_url\", \"image_url\": {\"url\": f\"data:image/jpeg;base64,{base64_image}\"}}\n",
    "                ]\n",
    "\n",
    "                zero_shot_result = get_transcription(\n",
    "                    client=client,\n",
    "                    model=\"gpt-4o\",\n",
    "                    system_prompt=prompt_text.value,\n",
    "                    messages=zero_shot_messages,\n",
    "                    response_format=TranscriptionPage\n",
    "                )\n",
    "\n",
    "            # Check if result is an error\n",
    "            if hasattr(zero_shot_result, 'is_error') and zero_shot_result.is_error:\n",
    "                zero_shot_set(f\"**Error**: {zero_shot_result.text}\")\n",
    "            else:\n",
    "                # Create the output using mo.hstack and convert to HTML string\n",
    "                zero_shot_output_content = mo.hstack(\n",
    "                    items=[\n",
    "                        mo.image(file_upload.value[0].contents), \n",
    "                        mo.md(f\"### Transcription: \\n {zero_shot_result.text}\")\n",
    "                    ],\n",
    "                    widths=\"equal\",\n",
    "                    gap=1,\n",
    "                    align=\"start\",\n",
    "                    justify=\"center\"\n",
    "                )\n",
    "                zero_shot_set(zero_shot_output_content._repr_html_())\n",
    "        else:\n",
    "            zero_shot_set(\"**Please upload an image file first!**\")\n",
    "    except Exception as e:\n",
    "        zero_shot_set(f\"**Error**: {e}\")"
   ]
  },
  {
   "cell_type": "code",
   "execution_count": null,
   "id": "ZHCJ",
   "metadata": {},
   "outputs": [],
   "source": [
    "# System Prompt for One Shot\n",
    "one_shot_prompt_text = mo.ui.text_area(value=\"You are an expert for medieval handwritten middle high german. Here is an example of a handwritten text and its transcription. Use this example to help you transcribe the new text. Transcribe the text in this image exactly and return it in markdown format.\")"
   ]
  },
  {
   "cell_type": "code",
   "execution_count": null,
   "id": "ROlb",
   "metadata": {},
   "outputs": [],
   "source": [
    "# Example Image Upload\n",
    "example_file_upload = mo.ui.file(kind=\"area\", filetypes=[\".png\", \".jpg\", \".jpeg\"], multiple=False, label=\"Upload Example Image\")"
   ]
  },
  {
   "cell_type": "code",
   "execution_count": null,
   "id": "qnkX",
   "metadata": {},
   "outputs": [
    {
     "data": {
      "text/html": [
       "<span class=\"markdown prose dark:prose-invert\"><span class=\"paragraph\"><strong>Example image uploaded successfully!</strong></span></span>"
      ]
     },
     "metadata": {},
     "output_type": "display_data"
    }
   ],
   "source": [
    "# Example Transcription\n",
    "example_transcription = mo.ui.text_area(label=\"\", placeholder=\"Enter the correct transcription for the example image...\")\n",
    "\n",
    "if example_file_upload.value:\n",
    "    mo.output.replace(mo.md(\"**Example image uploaded successfully!**\"))"
   ]
  },
  {
   "cell_type": "code",
   "execution_count": null,
   "id": "TqIu",
   "metadata": {},
   "outputs": [],
   "source": [
    "# Target Image Upload for One Shot\n",
    "one_shot_file_upload = mo.ui.file(kind=\"area\", filetypes=[\".png\", \".jpg\", \".jpeg\"], multiple=False, label=\"Upload Target Image to Transcribe\")"
   ]
  },
  {
   "cell_type": "code",
   "execution_count": null,
   "id": "Vxnm",
   "metadata": {},
   "outputs": [
    {
     "data": {
      "text/html": [
       "<span class=\"markdown prose dark:prose-invert\"><span class=\"paragraph\"><strong>Target image uploaded successfully!</strong></span></span>"
      ]
     },
     "metadata": {},
     "output_type": "display_data"
    }
   ],
   "source": [
    "if one_shot_file_upload.value:\n",
    "    one_shot_base64_image = encode_image_to_base64(one_shot_file_upload.value[0].contents)\n",
    "    mo.output.replace(mo.md(\"**Target image uploaded successfully!**\"))\n",
    "else:\n",
    "    one_shot_base64_image = None"
   ]
  },
  {
   "cell_type": "code",
   "execution_count": null,
   "id": "DnEU",
   "metadata": {},
   "outputs": [],
   "source": [
    "if example_file_upload.value:\n",
    "    example_base64_image = encode_image_to_base64(example_file_upload.value[0].contents)\n",
    "else:\n",
    "    example_base64_image = None"
   ]
  },
  {
   "cell_type": "code",
   "execution_count": null,
   "id": "ulZA",
   "metadata": {},
   "outputs": [],
   "source": [
    "one_shot_run_button = mo.ui.run_button(label=\"Run One-Shot Transcription 🏃 \", kind=\"success\")"
   ]
  },
  {
   "cell_type": "code",
   "execution_count": null,
   "id": "ecfG",
   "metadata": {},
   "outputs": [],
   "source": [
    "# run One-Shot Transcription\n",
    "one_shot_result = None\n",
    "one_shot_status = None\n",
    "\n",
    "if one_shot_run_button.value:\n",
    "    try:\n",
    "        if one_shot_file_upload.value and example_file_upload.value and example_transcription.value:\n",
    "            # Start the loading spinner\n",
    "            one_shot_status = mo.status.spinner(\n",
    "                title=\"Transcribing Image with One-Shot Learning\",\n",
    "                subtitle=\"Sending request to OpenAI...\",\n",
    "            )\n",
    "\n",
    "            # Prepare the messages with example and target\n",
    "            with one_shot_status:\n",
    "                one_shot_messages = [\n",
    "                    {\"type\": \"text\", \"text\": \"Here is an example of handwritten text:\"},\n",
    "                    {\"type\": \"image_url\", \"image_url\": {\"url\": f\"data:image/jpeg;base64,{example_base64_image}\"}},\n",
    "                    {\"type\": \"text\", \"text\": f\"The correct transcription is:\\n{example_transcription.value}\\n\\nNow please transcribe this new text:\"},\n",
    "                    {\"type\": \"image_url\", \"image_url\": {\"url\": f\"data:image/jpeg;base64,{one_shot_base64_image}\"}}\n",
    "                ]\n",
    "\n",
    "                one_shot_result = get_transcription(\n",
    "                    client=client,\n",
    "                    model=\"gpt-4o\",\n",
    "                    system_prompt=one_shot_prompt_text.value,\n",
    "                    messages=one_shot_messages,\n",
    "                    response_format=TranscriptionPage\n",
    "                )\n",
    "\n",
    "            # Check if result is an error\n",
    "            if hasattr(one_shot_result, 'is_error') and one_shot_result.is_error:\n",
    "                one_shot_set(f\"**Error**: {one_shot_result.text}\")\n",
    "            else:\n",
    "                one_shot_output_content = mo.hstack(\n",
    "                    items=[\n",
    "                        mo.image(one_shot_file_upload.value[0].contents), \n",
    "                        mo.md(f\"### Transcription: \\n {one_shot_result.text}\")\n",
    "                    ],\n",
    "                    widths=\"equal\",\n",
    "                    gap=1,\n",
    "                    align=\"start\",\n",
    "                    justify=\"center\"\n",
    "                )\n",
    "                one_shot_set(one_shot_output_content._repr_html_())\n",
    "        else:\n",
    "            one_shot_missing = []\n",
    "            if not example_file_upload.value:\n",
    "                one_shot_missing.append(\"example image\")\n",
    "            if not example_transcription.value:\n",
    "                one_shot_missing.append(\"example transcription\")\n",
    "            if not one_shot_file_upload.value:\n",
    "                one_shot_missing.append(\"target image\")\n",
    "\n",
    "            one_shot_set(f\"**Missing required inputs: {', '.join(one_shot_missing)}**\")\n",
    "    except Exception as e:\n",
    "        one_shot_set(f\"**Error**: {e}\")"
   ]
  },
  {
   "cell_type": "code",
   "execution_count": null,
   "id": "Pvdt",
   "metadata": {},
   "outputs": [],
   "source": [
    "one_shot = mo.vstack([\n",
    "    \"System Prompt\", one_shot_prompt_text,\n",
    "    \"Example Image\", example_file_upload,\n",
    "    \"Example Transcription\", example_transcription,\n",
    "    \"Target Image to Transcribe\", one_shot_file_upload,\n",
    "    one_shot_run_button,\n",
    "    mo.md(one_shot_get())\n",
    "])"
   ]
  },
  {
   "cell_type": "code",
   "execution_count": null,
   "id": "ZBYS",
   "metadata": {},
   "outputs": [],
   "source": [
    "# System Prompt for HTR Improvement\n",
    "htr_prompt_text = mo.ui.text_area(value=\"You are an expert for medieval handwritten middle high german. I will provide you with an image of handwritten text and the output from a classical HTR (Handwritten Text Recognition) model. This output may contain errors. Your task is to correct any errors and provide an accurate transcription. Return the corrected text in markdown format.\")"
   ]
  },
  {
   "cell_type": "code",
   "execution_count": null,
   "id": "aLJB",
   "metadata": {},
   "outputs": [],
   "source": [
    "# Image Upload for HTR Improvement\n",
    "htr_file_upload = mo.ui.file(kind=\"area\", filetypes=[\".png\", \".jpg\", \".jpeg\"], multiple=False, label=\"Upload Image\")"
   ]
  },
  {
   "cell_type": "code",
   "execution_count": null,
   "id": "nHfw",
   "metadata": {},
   "outputs": [
    {
     "data": {
      "text/html": [
       "<span class=\"markdown prose dark:prose-invert\"><span class=\"paragraph\"><strong>Image uploaded successfully!</strong></span></span>"
      ]
     },
     "metadata": {},
     "output_type": "display_data"
    }
   ],
   "source": [
    "# Process the uploaded image\n",
    "if htr_file_upload.value:\n",
    "    htr_base64_image = encode_image_to_base64(htr_file_upload.value[0].contents)\n",
    "    mo.output.replace(mo.md(\"**Image uploaded successfully!**\"))\n",
    "else:\n",
    "    htr_base64_image = None"
   ]
  },
  {
   "cell_type": "code",
   "execution_count": null,
   "id": "xXTn",
   "metadata": {},
   "outputs": [],
   "source": [
    "# HTR Output\n",
    "htr_output = mo.ui.text_area(label=\"\", placeholder=\"Paste the output from your classical HTR model here...\")"
   ]
  },
  {
   "cell_type": "code",
   "execution_count": null,
   "id": "AjVT",
   "metadata": {},
   "outputs": [],
   "source": [
    "# Run button for HTR Improvement\n",
    "htr_run_button = mo.ui.run_button(label=\"Run HTR Improvement 🏃 \", kind=\"success\")"
   ]
  },
  {
   "cell_type": "code",
   "execution_count": null,
   "id": "pHFh",
   "metadata": {},
   "outputs": [],
   "source": [
    "# Run HTR Improvement\n",
    "htr_result = None\n",
    "htr_status = None\n",
    "\n",
    "if htr_run_button.value:\n",
    "    try:\n",
    "        if htr_file_upload.value and htr_output.value:\n",
    "            # Start the loading spinner\n",
    "            htr_status = mo.status.spinner(\n",
    "                title=\"Improving HTR Output\",\n",
    "                subtitle=\"Sending request to OpenAI...\",\n",
    "            )\n",
    "\n",
    "            # Run the transcription improvement\n",
    "            with htr_status:\n",
    "                htr_messages = [\n",
    "                    {\"type\": \"text\", \"text\": \"Here is a handwritten text image:\"},\n",
    "                    {\"type\": \"image_url\", \"image_url\": {\"url\": f\"data:image/jpeg;base64,{htr_base64_image}\"}},\n",
    "                    {\"type\": \"text\", \"text\": f\"The classical HTR model produced this output:\\n\\n```\\n{htr_output.value}\\n```\\n\\nPlease correct any errors and provide an accurate transcription.\"}\n",
    "                ]\n",
    "\n",
    "                htr_result = get_transcription(\n",
    "                    client=client,\n",
    "                    model=\"gpt-4o\",\n",
    "                    system_prompt=htr_prompt_text.value,\n",
    "                    messages=htr_messages,\n",
    "                    response_format=TranscriptionPage\n",
    "                )\n",
    "\n",
    "            # Check if result is an error\n",
    "            if hasattr(htr_result, 'is_error') and htr_result.is_error:\n",
    "                htr_set(f\"**Error**: {htr_result.text}\")\n",
    "            else:\n",
    "                htr_output_content = mo.vstack([\n",
    "                    mo.hstack(\n",
    "                        items=[\n",
    "                            mo.image(htr_file_upload.value[0].contents),\n",
    "                            mo.vstack([\n",
    "                                mo.md(\"### Original HTR Output:\"),\n",
    "                                mo.md(f\"```\\n{htr_output.value}\\n```\")\n",
    "                            ])\n",
    "                        ],\n",
    "                        widths=\"equal\",\n",
    "                        gap=1,\n",
    "                        align=\"start\",\n",
    "                        justify=\"center\"\n",
    "                    ),\n",
    "                    mo.md(\"### Improved Transcription:\"),\n",
    "                    mo.md(f\"{htr_result.text}\")\n",
    "                ])\n",
    "                htr_set(htr_output_content._repr_html_())\n",
    "        else:\n",
    "            htr_missing = []\n",
    "            if not htr_file_upload.value:\n",
    "                htr_missing.append(\"image\")\n",
    "            if not htr_output.value:\n",
    "                htr_missing.append(\"HTR output\")\n",
    "\n",
    "            htr_set(f\"**Missing required inputs: {', '.join(htr_missing)}**\")\n",
    "    except Exception as e:\n",
    "        htr_set(f\"**Error**: {e}\")"
   ]
  },
  {
   "cell_type": "code",
   "execution_count": null,
   "id": "NCOB",
   "metadata": {},
   "outputs": [],
   "source": [
    "# Create the HTR improvement tab\n",
    "htr_improvement = mo.vstack([\n",
    "    \"System Prompt\", htr_prompt_text,\n",
    "    \"Image\", htr_file_upload,\n",
    "    \"Classical HTR Output\", htr_output,\n",
    "    htr_run_button,\n",
    "    mo.md(htr_get())\n",
    "])"
   ]
  },
  {
   "cell_type": "code",
   "execution_count": null,
   "id": "aqbW",
   "metadata": {},
   "outputs": [],
   "source": []
  }
 ],
 "metadata": {},
 "nbformat": 4,
 "nbformat_minor": 5
}
