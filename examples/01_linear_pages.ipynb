{
 "cells": [
  {
   "cell_type": "markdown",
   "metadata": {},
   "source": [
    "## GPT-4o without Transkribus OCR\n"
   ]
  },
  {
   "cell_type": "markdown",
   "metadata": {},
   "source": [
    "<img src=\"./data/01_quantitative/Seite0408.JPG\" alt=\"Drawing\" style=\"width: 200px;\"/>"
   ]
  },
  {
   "cell_type": "code",
   "execution_count": 1,
   "metadata": {},
   "outputs": [],
   "source": [
    "import os\n",
    "from dotenv import load_dotenv\n",
    "from openai import OpenAI\n",
    "\n",
    "\n",
    "load_dotenv()\n",
    "\n",
    "client = OpenAI(api_key= os.getenv('OPENAI_API_KEY'))"
   ]
  },
  {
   "cell_type": "code",
   "execution_count": 6,
   "metadata": {},
   "outputs": [],
   "source": [
    "import base64\n",
    "\n",
    "def encode_image(image_path):\n",
    "    with open(image_path, \"rb\") as image_file:\n",
    "        return base64.b64encode(image_file.read()).decode(\"utf-8\")"
   ]
  },
  {
   "cell_type": "code",
   "execution_count": 8,
   "metadata": {},
   "outputs": [],
   "source": [
    "from pydantic import BaseModel, Field\n",
    "\n",
    "class TranscriptionPage(BaseModel):\n",
    "    text: str = Field(..., description=\"The transcribed text of the page.\")"
   ]
  },
  {
   "cell_type": "code",
   "execution_count": 9,
   "metadata": {},
   "outputs": [],
   "source": [
    "base64_image = encode_image(\"./data/01_quantitative/Seite0408.JPG\")\n",
    "\n",
    "completion = client.beta.chat.completions.parse(\n",
    "  model=\"gpt-4o\",\n",
    "  messages=[\n",
    "    {\"role\": \"system\", \"content\": \"You are an expert for handwritten Early Modern German. Transcribe the text in this image exactly and return it in markdown format.\"},\n",
    "    {\"role\": \"user\", \"content\": [\n",
    "            {\"type\": \"image_url\", \"image_url\": {\n",
    "                \"url\": f\"data:image/png;base64,{base64_image}\"}\n",
    "            }\n",
    "        ]}\n",
    "  ],\n",
    "  response_format=TranscriptionPage,\n",
    ")\n",
    "\n",
    "result = completion.choices[0].message.parsed"
   ]
  },
  {
   "cell_type": "code",
   "execution_count": 17,
   "metadata": {},
   "outputs": [
    {
     "data": {
      "text/plain": [
       "'ander Buch führen und\\nbesser schreiben wird\\nder Schul Capt:\\nsuggerieret wurde, das ist\\nanderer Schools Mann\\naber hlicken ??? wachsen\\nMögen bey dieser Zeit\\nder anderen ???\\nbelangen, da sie allein\\nzu führen seyen, bei creación\\ngeschriben \\\\ bey dem Bock\\nwürden sich erforderen\\nund berichtet von:\\n?? überm Schwarzen'"
      ]
     },
     "execution_count": 17,
     "metadata": {},
     "output_type": "execute_result"
    }
   ],
   "source": [
    "result.text\n",
    "gpt4o_only = result.text\n",
    "gpt4o_only"
   ]
  },
  {
   "cell_type": "markdown",
   "metadata": {},
   "source": [
    "## GPT-4o with Transkribus OCR - German Giant 1\n"
   ]
  },
  {
   "cell_type": "code",
   "execution_count": 13,
   "metadata": {},
   "outputs": [],
   "source": [
    "transcribus_only = \"\"\"\n",
    "215\n",
    "wider Ichtes firzenen\n",
    "bedennckhlich werde\n",
    "ai Ersamer Rath sich\n",
    "och Zūr Zeit Zūgedūld\n",
    "vnd erstbemelten Man¬¬\n",
    "daten Zū beqūenen wissen.\n",
    "Was beschliesslich\n",
    "die. wider dactoon Ar¬\n",
    "ara gefierte Clagan\n",
    "belannge. seie selbiger\n",
    "von Iren Gnaden dahi\n",
    "beschailen. vnd beūelcht\n",
    "worden. sich nit allain\n",
    "deren Iir erlaūbten\n",
    "wörn. vnd Pixen. mit\n",
    "gebirenden discretion\n",
    "gebraūchen, sonnder\n",
    "aūch ii vbrigen ge¬\n",
    "zimbtermassen. vnd\"\"\""
   ]
  },
  {
   "cell_type": "code",
   "execution_count": 14,
   "metadata": {},
   "outputs": [],
   "source": [
    "base64_image = encode_image(\"./data/01_quantitative/Seite0408.JPG\")\n",
    "\n",
    "completion = client.beta.chat.completions.parse(\n",
    "  model=\"gpt-4o\",\n",
    "  messages=[\n",
    "    {\"role\": \"system\", \"content\": \"\"\"You are an expert for handwritten Early Modern German. Transcribe the text in this image exactly and return it in markdown format.\n",
    "     The following is the output of a Transkribus OCR model. It can be helpful with the transcription, but you should not rely on it completely as it can be wrong.\n",
    "     {transcribus_only}\n",
    "     \"\"\"},\n",
    "    {\"role\": \"user\", \"content\": [\n",
    "            {\"type\": \"image_url\", \"image_url\": {\n",
    "                \"url\": f\"data:image/png;base64,{base64_image}\"}\n",
    "            }\n",
    "        ]}\n",
    "  ],\n",
    "  response_format=TranscriptionPage,\n",
    ")\n",
    "\n",
    "result = completion.choices[0].message.parsed"
   ]
  },
  {
   "cell_type": "code",
   "execution_count": 16,
   "metadata": {},
   "outputs": [
    {
     "data": {
      "text/plain": [
       "'ander Buch führen und\\nbesser schreiben wird\\nder Schul Capt:\\nsuggerieret wurde, das ist\\nanderer Schools Mann\\naber hlicken ??? wachsen\\nMögen bey dieser Zeit\\nder anderen ???\\nbelangen, da sie allein\\nzu führen seyen, bei creación\\ngeschriben \\\\ bey dem Bock\\nwürden sich erforderen\\nund berichtet von:\\n?? überm Schwarzen'"
      ]
     },
     "execution_count": 16,
     "metadata": {},
     "output_type": "execute_result"
    }
   ],
   "source": [
    "gpt4o_with_transkribus = result.text\n",
    "gpt4o_with_transkribus"
   ]
  },
  {
   "cell_type": "code",
   "execution_count": null,
   "metadata": {},
   "outputs": [],
   "source": []
  }
 ],
 "metadata": {
  "kernelspec": {
   "display_name": ".venv",
   "language": "python",
   "name": "python3"
  },
  "language_info": {
   "codemirror_mode": {
    "name": "ipython",
    "version": 3
   },
   "file_extension": ".py",
   "mimetype": "text/x-python",
   "name": "python",
   "nbconvert_exporter": "python",
   "pygments_lexer": "ipython3",
   "version": "3.13.1"
  }
 },
 "nbformat": 4,
 "nbformat_minor": 2
}
